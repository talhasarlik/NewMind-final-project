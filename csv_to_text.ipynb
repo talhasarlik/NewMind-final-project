{
 "cells": [
  {
   "cell_type": "code",
   "execution_count": null,
   "metadata": {},
   "outputs": [],
   "source": [
    "import pandas as pd\n",
    "import string"
   ]
  },
  {
   "cell_type": "code",
   "execution_count": null,
   "metadata": {},
   "outputs": [],
   "source": [
    "# Read the CSV file containing steam reviews\n",
    "df = pd.read_csv(\"steam_reviews.csv\")\n",
    "\n",
    "# Select relevant columns\n",
    "df = df[['recommendation', 'review', 'title']]\n",
    "\n",
    "# Create a new column 'class' based on the 'recommendation' values\n",
    "df['class'] = df.recommendation.apply(lambda x: 0 if x==\"Not Recommended\" else 1)\n",
    "df.info()"
   ]
  },
  {
   "cell_type": "code",
   "execution_count": null,
   "metadata": {},
   "outputs": [],
   "source": [
    "# Drop rows with missing values from the DataFrame\n",
    "df = df.dropna()"
   ]
  },
  {
   "cell_type": "code",
   "execution_count": null,
   "metadata": {},
   "outputs": [],
   "source": [
    "# Filter rows where the length of the review is between 50 and 120 characters\n",
    "df = df[(df.review.apply(len)>50)&(df.review.apply(len)<120)]"
   ]
  },
  {
   "cell_type": "code",
   "execution_count": null,
   "metadata": {},
   "outputs": [],
   "source": [
    "# Calculate the number of reviews per 'title'\n",
    "title_review_counts = df.groupby('title')['review'].count()\n",
    "\n",
    "# Find 'title' groups with fewer than 29 reviews\n",
    "titles_to_drop = title_review_counts[title_review_counts < 29].index\n",
    "\n",
    "# Remove these 'title' groups from the DataFrame\n",
    "data = df[~df['title'].isin(titles_to_drop)]\n",
    "\n",
    "print(data)\n"
   ]
  },
  {
   "cell_type": "code",
   "execution_count": null,
   "metadata": {},
   "outputs": [],
   "source": [
    "# Create a regex for punctuation marks at the end of the text\n",
    "punctuation = string.punctuation\n",
    "regex = f\"[{punctuation}]$\"\n",
    "\n",
    "# Add a period (.) to reviews that do not end with a punctuation mark\n",
    "data['review'] = data['review'].apply(\n",
    "    lambda x: f\"{x}.\" if not pd.Series([x]).str.contains(regex).iloc[0] else x\n",
    ")"
   ]
  },
  {
   "cell_type": "code",
   "execution_count": null,
   "metadata": {},
   "outputs": [],
   "source": [
    "# Group by 'title' and 'recommendation', and count the number of reviews for each combination\n",
    "review_count_df = data.groupby(['title', 'recommendation'])['review'].count().reset_index()\n",
    "\n",
    "# Group by 'title' and 'recommendation', and concatenate (sum) the reviews for each combination\n",
    "review_texts_df = data.groupby(['title', 'recommendation'])['review'].sum().reset_index()\n",
    "\n",
    "# Merge 'review_texts_df' and 'review_count_df' DataFrames on 'title' and 'recommendation' columns\n",
    "# This combines both the total review text and the count of reviews per combination\n",
    "merged_df = pd.merge(review_texts_df, review_count_df, on=['title', 'recommendation'], how='left', suffixes=('_text', '_count'))\n"
   ]
  },
  {
   "cell_type": "code",
   "execution_count": null,
   "metadata": {},
   "outputs": [],
   "source": [
    "result = []\n",
    "\n",
    "# Extract the title, recommendation, review count, and review text for each row\n",
    "for index, row in merged_df.iterrows():\n",
    "    title = row['title']\n",
    "    recommendation = row['recommendation']\n",
    "    review_count = row['review_count']\n",
    "    review_text = row['review_text']\n",
    "    \n",
    "    # Create a formatted string with the extracted information\n",
    "    result.append(f\"For '{title}' '{review_count}' {recommendation} reviews: '{review_text}'\")\n",
    "\n",
    "# Join all the formatted strings into a single document\n",
    "document = \"\\n\".join(result)"
   ]
  },
  {
   "cell_type": "code",
   "execution_count": null,
   "metadata": {},
   "outputs": [],
   "source": [
    "# Write the generated text to a file\n",
    "with open('reviews_document.txt', 'w', encoding='utf-8') as file:\n",
    "    file.write(document)\n",
    "\n",
    "print(\"Text created!\")"
   ]
  }
 ],
 "metadata": {
  "language_info": {
   "name": "python"
  }
 },
 "nbformat": 4,
 "nbformat_minor": 2
}
